{
 "cells": [
  {
   "cell_type": "markdown",
   "metadata": {},
   "source": [
    "# Import Libraries"
   ]
  },
  {
   "cell_type": "code",
   "execution_count": 33,
   "metadata": {},
   "outputs": [],
   "source": [
    "import tkinter as tk\n",
    "from tkinter import Message ,Text\n",
    "from playsound import playsound\n",
    "import cv2,os\n",
    "import shutil\n",
    "import csv\n",
    "import numpy as np\n",
    "from PIL import Image, ImageTk\n",
    "import pandas as pd\n",
    "import datetime\n",
    "import time\n",
    "import tkinter.ttk as ttk\n",
    "import tkinter.font as font"
   ]
  },
  {
   "cell_type": "markdown",
   "metadata": {},
   "source": [
    "# Create Window with Welcome Sound"
   ]
  },
  {
   "cell_type": "code",
   "execution_count": 34,
   "metadata": {},
   "outputs": [],
   "source": [
    "window = tk.Tk()\n",
    "window.title(\"Attendance MS\")\n",
    "playsound('Welcome-to-Face-Recognize-system.mp3')"
   ]
  },
  {
   "cell_type": "markdown",
   "metadata": {},
   "source": [
    "# Set Background Image to window"
   ]
  },
  {
   "cell_type": "code",
   "execution_count": 35,
   "metadata": {},
   "outputs": [],
   "source": [
    "path = 'C:\\\\Users\\\\DC\\\\Smart-Attendance-Tracking-System-master\\\\face2.jpg'\n",
    "img = ImageTk.PhotoImage(Image.open(path))\n",
    "panel = tk.Label(window, image = img)\n",
    "panel.pack(side = \"bottom\", fill = \"both\", expand = \"yes\")"
   ]
  },
  {
   "cell_type": "markdown",
   "metadata": {},
   "source": [
    "# Add Message and Text Box"
   ]
  },
  {
   "cell_type": "code",
   "execution_count": 36,
   "metadata": {},
   "outputs": [],
   "source": [
    "message = tk.Label(window, text=\"Attendance Tracking System\" ,bg=\"white\"  ,fg=\"black\"  ,width=21  ,height=1,font=('times', 30, 'italic bold')) \n",
    "message.place(x=10, y=10)\n",
    "\n",
    "message = tk.Label(window, text=\" \" ,bg=\"white\"  ,fg=\"black\"  ,width=60  ,height=13,font=('times', 10, 'italic bold')) \n",
    "message.place(x=30, y=130)\n",
    "\n",
    "message = tk.Label(window, text=\"New Users\" ,bg=\"white\"  ,fg=\"black\"  ,width=25  ,height=2,font=('times', 20, 'italic bold')) \n",
    "message.place(x=40, y=130)\n",
    "\n",
    "lbl = tk.Label(window, text=\"Enter ID:\",width=13  ,height=1  ,fg=\"black\"  ,bg=\"white\" ,font=('times', 13, ' bold ')) \n",
    "lbl.place(x=45, y=195)\n",
    "\n",
    "txt = tk.Entry(window,width=20  ,bg=\"white\" ,fg=\"black\",font=('times', 15, ' bold '))\n",
    "txt.place(x=183, y=195)\n",
    "\n",
    "lbl2 = tk.Label(window, text=\"Enter Name:\",width=13  ,fg=\"black\"  ,bg=\"white\"    ,height=2 ,font=('times', 13, ' bold ')) \n",
    "lbl2.place(x=45, y=226)\n",
    "\n",
    "txt2 = tk.Entry(window,width=20  ,bg=\"white\"  ,fg=\"black\",font=('times', 15, ' bold ')  )\n",
    "txt2.place(x=183, y=235)\n",
    "\n",
    "message = tk.Label(window, text=\" \" ,bg=\"black\"  ,fg=\"black\"  ,width=60  ,height=7,font=('times', 10, 'italic bold')) \n",
    "message.place(x=30, y=365)\n",
    "\n",
    "lbl3 = tk.Label(window, text=\"Attendance : \",width=13  ,fg=\"white\"  ,bg=\"black\"  ,height=2 ,font=('times', 13, ' bold ')) \n",
    "lbl3.place(x=30, y=395)\n",
    "\n",
    "message2 = tk.Label(window, text=\"\" ,fg=\"white\"   ,bg=\"black\",activeforeground = \"green\",width=28  ,height=5  ,font=('times', 13, ' bold ')) \n",
    "message2.place(x=163, y=365)\n",
    " \n",
    "message = tk.Label(window, text=\"Developed By: Dushyant Chauhan\" ,bg=\"white\"  ,fg=\"black\"  ,width=26  ,height=1,font=('times', 30, 'italic bold')) \n",
    "message.place(x=200, y=507)"
   ]
  },
  {
   "cell_type": "markdown",
   "metadata": {},
   "source": [
    "# Condition (Registration Part)"
   ]
  },
  {
   "cell_type": "code",
   "execution_count": 37,
   "metadata": {},
   "outputs": [],
   "source": [
    "def clear():\n",
    "    txt.delete(0, 'end')    \n",
    "    res = \"\"\n",
    "    message.configure(text= res)\n",
    "\n",
    "def clear2():\n",
    "    txt2.delete(0, 'end')    \n",
    "    res = \"\"\n",
    "    message.configure(text= res)    \n",
    "    \n",
    "def is_number(s):\n",
    "    try:\n",
    "        float(s)\n",
    "        return True\n",
    "    except ValueError:\n",
    "        pass\n",
    " \n",
    "    try:\n",
    "        import unicodedata\n",
    "        unicodedata.numeric(s)\n",
    "        return True\n",
    "    except (TypeError, ValueError):\n",
    "        pass\n",
    " \n",
    "    return False"
   ]
  },
  {
   "cell_type": "markdown",
   "metadata": {},
   "source": [
    "# Face Detection and Data Gathering"
   ]
  },
  {
   "cell_type": "code",
   "execution_count": 38,
   "metadata": {},
   "outputs": [],
   "source": [
    "def TakeImages(): \n",
    "    Id=(txt.get())\n",
    "    name=(txt2.get())\n",
    "    if(is_number(Id) and name.isalpha()):\n",
    "        cam = cv2.VideoCapture(0)\n",
    "        harcascadePath = \"haarcascade_frontalface_default.xml\"\n",
    "        detector=cv2.CascadeClassifier(harcascadePath)\n",
    "        sampleNum=0\n",
    "        while(True):\n",
    "            ret, img = cam.read()\n",
    "            gray = cv2.cvtColor(img, cv2.COLOR_BGR2GRAY)\n",
    "            faces = detector.detectMultiScale(gray, 1.3, 5)\n",
    "            for (x,y,w,h) in faces:\n",
    "                cv2.rectangle(img,(x,y),(x+w,y+h),(255,0,0),2)        \n",
    "                #incrementing sample number \n",
    "                sampleNum=sampleNum+1\n",
    "                #saving the captured face in the dataset folder TrainingImage\n",
    "                cv2.imwrite(\"TrainingImage\\ \"+name +\".\"+Id +'.'+ str(sampleNum) + \".jpg\", gray[y:y+h,x:x+w])\n",
    "                #display the frame\n",
    "                cv2.imshow('Facial Recognition',img)\n",
    "            if cv2.waitKey(100) & 0xFF == ord('q'):\n",
    "                break\n",
    "            elif sampleNum>60:\n",
    "                break\n",
    "        playsound('Dataset-Created.mp3')\n",
    "        cam.release()\n",
    "        cv2.destroyAllWindows() \n",
    "        res = \"Dataset Created\" \n",
    "        row = [Id , name]\n",
    "        with open('StudentDetails\\StudentDetails.csv','a+') as csvFile:\n",
    "            writer = csv.writer(csvFile)\n",
    "            writer.writerow(row)\n",
    "        csvFile.close()\n",
    "        message.configure(text= res)\n",
    "    else:\n",
    "        if(is_number(Id)):\n",
    "            res = \"Enter Alphabetical Name\"\n",
    "            message.configure(text= res)\n",
    "        if(name.isalpha()):\n",
    "            res = \"Enter Numeric Id\"\n",
    "            message.configure(text= res)"
   ]
  },
  {
   "cell_type": "markdown",
   "metadata": {},
   "source": [
    "# Train Dataset"
   ]
  },
  {
   "cell_type": "code",
   "execution_count": 39,
   "metadata": {},
   "outputs": [],
   "source": [
    "def TrainImages():\n",
    "    recognizer = cv2.face_LBPHFaceRecognizer.create()\n",
    "    harcascadePath = \"haarcascade_frontalface_default.xml\"\n",
    "    detector =cv2.CascadeClassifier(harcascadePath)\n",
    "    faces,Id = getImagesAndLabels(\"TrainingImage\")\n",
    "    recognizer.train(faces, np.array(Id))\n",
    "    recognizer.save(\"TrainingImageLabel\\Trainner.yml\")\n",
    "    res = \"Dataset Trained Successfully\"\n",
    "    message.configure(text= res)\n",
    "    playsound('Dataset-Trained-Successfully.mp3')"
   ]
  },
  {
   "cell_type": "markdown",
   "metadata": {},
   "source": [
    "# Convert Image to Gray Scale and Extract the Dataset"
   ]
  },
  {
   "cell_type": "code",
   "execution_count": 40,
   "metadata": {},
   "outputs": [],
   "source": [
    "def getImagesAndLabels(path):\n",
    "    #get the path of all the files in the folder\n",
    "    imagePaths=[os.path.join(path,f) for f in os.listdir(path)] \n",
    "    #print(imagePaths)\n",
    "    \n",
    "    #create empth face list\n",
    "    faces=[]\n",
    "    #create empty ID list\n",
    "    Ids=[]\n",
    "    #now looping through all the image paths and loading the Ids and the images\n",
    "    for imagePath in imagePaths:\n",
    "        #loading the image and converting it to gray scale\n",
    "        pilImage=Image.open(imagePath).convert('L')\n",
    "        #Now we are converting the PIL image into numpy array\n",
    "        imageNp=np.array(pilImage,'uint8')\n",
    "        #getting the Id from the image\n",
    "        Id=int(os.path.split(imagePath)[-1].split(\".\")[1])\n",
    "        # extract the face from the training image sample\n",
    "        faces.append(imageNp)\n",
    "        Ids.append(Id)        \n",
    "    return faces,Ids"
   ]
  },
  {
   "cell_type": "markdown",
   "metadata": {},
   "source": [
    "# Face Recognition"
   ]
  },
  {
   "cell_type": "code",
   "execution_count": 41,
   "metadata": {},
   "outputs": [],
   "source": [
    "def TrackImages():\n",
    "    recognizer = cv2.face.LBPHFaceRecognizer_create()\n",
    "    recognizer.read(\"TrainingImageLabel\\Trainner.yml\")\n",
    "    harcascadePath = \"haarcascade_frontalface_default.xml\"\n",
    "    faceCascade = cv2.CascadeClassifier(harcascadePath);    \n",
    "    df=pd.read_csv(\"StudentDetails\\StudentDetails.csv\")\n",
    "    cam = cv2.VideoCapture(0)\n",
    "    font = cv2.FONT_HERSHEY_SIMPLEX        \n",
    "    col_names =  ['Id','Name','Date','Time']\n",
    "    attendance = pd.DataFrame(columns = col_names)  \n",
    "    while True:\n",
    "        ret, im =cam.read()\n",
    "        gray=cv2.cvtColor(im,cv2.COLOR_BGR2GRAY)\n",
    "        faces=faceCascade.detectMultiScale(gray, 1.2,5)    \n",
    "        for(x,y,w,h) in faces:\n",
    "            cv2.rectangle(im,(x,y),(x+w,y+h),(225,0,0),2)\n",
    "            Id, conf = recognizer.predict(gray[y:y+h,x:x+w])    \n",
    "            if(conf < 50):\n",
    "                ts = time.time()      \n",
    "                date = datetime.datetime.fromtimestamp(ts).strftime('%Y-%m-%d')\n",
    "                timeStamp = datetime.datetime.fromtimestamp(ts).strftime('%H:%M:%S')\n",
    "                aa=df.loc[df['Id'] == Id]['Name'].values\n",
    "                tt=str(Id)+\"-\"+aa\n",
    "                attendance.loc[len(attendance)] = [Id,aa,date,timeStamp]\n",
    "               \n",
    "            else:\n",
    "                Id='Unknown'                \n",
    "                tt=str(Id)  \n",
    "            if(conf > 75):\n",
    "                noOfFile=len(os.listdir(\"ImagesUnknown\"))+1\n",
    "                cv2.imwrite(\"ImagesUnknown\\Image\"+str(noOfFile) + \".jpg\", im[y:y+h,x:x+w])            \n",
    "            cv2.putText(im,str(tt),(x,y+h), font, 1,(255,255,255),2)        \n",
    "        attendance=attendance.drop_duplicates(subset=['Id'],keep='first')    \n",
    "        cv2.imshow('Facial Recognition',im) \n",
    "        if (cv2.waitKey(1)==ord('q')):\n",
    "            break\n",
    "    ts = time.time()      \n",
    "    date = datetime.datetime.fromtimestamp(ts).strftime('%Y-%m-%d')\n",
    "    timeStamp = datetime.datetime.fromtimestamp(ts).strftime('%H:%M:%S')\n",
    "    Hour,Minute,Second=timeStamp.split(\":\")\n",
    "    fileName=\"Attendance\\Attendance_\"+date+\"_\"+Hour+\"-\"+Minute+\"-\"+Second+\".csv\"\n",
    "    attendance.to_csv(fileName,index=False)\n",
    "    res = \"Attendance Updated\"\n",
    "    message.configure(text= res)\n",
    "    playsound('Thank-you-Your-attendance-updated.mp3')\n",
    "    cam.release()\n",
    "    cv2.destroyAllWindows()\n",
    "    #print(attendance)\n",
    "    res=attendance\n",
    "    message2.configure(text= res)"
   ]
  },
  {
   "cell_type": "markdown",
   "metadata": {},
   "source": [
    "# Add Buttons and Close the Main loop"
   ]
  },
  {
   "cell_type": "code",
   "execution_count": 42,
   "metadata": {},
   "outputs": [],
   "source": [
    "clearButton = tk.Button(window, text=\"-\", command=clear  ,fg=\"white\"  ,bg=\"red\"  ,width=3  ,height=1 ,activebackground = \"Red\" ,font=('times', 10, ' bold '))\n",
    "clearButton.place(x=400, y=195)\n",
    "clearButton2 = tk.Button(window, text=\"-\", command=clear2  ,fg=\"white\"  ,bg=\"red\"  ,width=3  ,height=1, activebackground = \"Red\" ,font=('times', 10, ' bold '))\n",
    "clearButton2.place(x=400, y=235)    \n",
    "takeImg = tk.Button(window, text=\"Register\", command=TakeImages  ,fg=\"white\"  ,bg=\"grey\"  ,width=10  ,height=1, activebackground = \"aqua\" ,font=('times', 15, ' bold '))\n",
    "takeImg.place(x=100, y=280)\n",
    "trainImg = tk.Button(window, text=\"Trained\", command=TrainImages  ,fg=\"white\"  ,bg=\"blue\"  ,width=10  ,height=1, activebackground = \"gold\" ,font=('times', 15, ' bold '))\n",
    "trainImg.place(x=260, y=280)\n",
    "trackImg = tk.Button(window, text=\"Mark Attendance\", command=TrackImages  ,fg=\"white\"  ,bg=\"green\"  ,width=14  ,height=1, activebackground = \"lime\" ,font=('times', 15, ' bold '))\n",
    "trackImg.place(x=20, y=70)\n",
    "\n",
    "window.mainloop()"
   ]
  }
 ],
 "metadata": {
  "kernelspec": {
   "display_name": "Python 3",
   "language": "python",
   "name": "python3"
  },
  "language_info": {
   "codemirror_mode": {
    "name": "ipython",
    "version": 3
   },
   "file_extension": ".py",
   "mimetype": "text/x-python",
   "name": "python",
   "nbconvert_exporter": "python",
   "pygments_lexer": "ipython3",
   "version": "3.6.10"
  }
 },
 "nbformat": 4,
 "nbformat_minor": 4
}
